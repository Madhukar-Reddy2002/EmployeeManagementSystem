{
 "cells": [
  {
   "cell_type": "code",
   "execution_count": 3,
   "metadata": {},
   "outputs": [],
   "source": [
    "import mysql.connector"
   ]
  },
  {
   "cell_type": "code",
   "execution_count": 1,
   "metadata": {},
   "outputs": [
    {
     "name": "stdout",
     "output_type": "stream",
     "text": [
      "(1, 'Madhukar', 'madhushashi2727@gmail.com', 'IT', 'Manager', datetime.date(2024, 3, 30), Decimal('50000.00'))\n",
      "(2, 'Geetha Priya Kollannagaari', 'geethu@gmail.com', 'Engineering', 'Software Engineer', datetime.date(2024, 3, 30), Decimal('100000.00'))\n"
     ]
    }
   ],
   "source": [
    "import mysql.connector\n",
    "\n",
    "# Replace placeholders with your actual credentials\n",
    "mydb = mysql.connector.connect(\n",
    "  host=\"localhost\",  # Assuming MySQL server is on the same machine\n",
    "  user=\"root\",\n",
    "  password=\"M@dhu2222\",\n",
    "  database=\"employee_db\"\n",
    ")\n",
    "\n",
    "# Create a cursor object\n",
    "mycursor = mydb.cursor()\n",
    "\n",
    "# Example query\n",
    "mycursor.execute(\"SELECT * FROM employees\")\n",
    "\n",
    "# Print the results\n",
    "myresult = mycursor.fetchall()\n",
    "for row in myresult:\n",
    "  print(row)\n",
    "\n",
    "# Close the connection\n",
    "mycursor.close()\n",
    "mydb.close()\n"
   ]
  },
  {
   "cell_type": "code",
   "execution_count": null,
   "metadata": {},
   "outputs": [],
   "source": []
  }
 ],
 "metadata": {
  "kernelspec": {
   "display_name": "Python 3",
   "language": "python",
   "name": "python3"
  },
  "language_info": {
   "codemirror_mode": {
    "name": "ipython",
    "version": 3
   },
   "file_extension": ".py",
   "mimetype": "text/x-python",
   "name": "python",
   "nbconvert_exporter": "python",
   "pygments_lexer": "ipython3",
   "version": "3.12.2"
  }
 },
 "nbformat": 4,
 "nbformat_minor": 2
}
